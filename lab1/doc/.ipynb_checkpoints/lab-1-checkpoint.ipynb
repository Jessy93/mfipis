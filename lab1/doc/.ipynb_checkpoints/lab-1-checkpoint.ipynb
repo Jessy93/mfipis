{
 "cells": [
  {
   "cell_type": "markdown",
   "id": "b955685a",
   "metadata": {},
   "source": [
    "# лабораторная работа номер 1"
   ]
  },
  {
   "cell_type": "markdown",
   "id": "4b890c8a",
   "metadata": {},
   "source": [
    "## функция шифрование алгоритму цезаря"
   ]
  },
  {
   "cell_type": "code",
   "execution_count": 1,
   "id": "e5a768d1",
   "metadata": {},
   "outputs": [],
   "source": [
    "def cesar():\n",
    "    lettre = 'ABCDEFGHIJKLMNOPQRSTUVXYZABCDEFGHIJKLMNOPQRSTUVXYZ'\n",
    "    step = 5\n",
    "    teste = input(\"cesar chiffrovanie :)\")\n",
    "    resultat = ''\n",
    "    for i in teste:\n",
    "        ind= lettre.find(i)\n",
    "        newind = ind + step \n",
    "        if i in lettre:\n",
    "            resultat += lettre[newind]\n",
    "        else:\n",
    "            resultat += i\n",
    "        print(resultat)"
   ]
  },
  {
   "cell_type": "code",
   "execution_count": 2,
   "id": "34ecce9b",
   "metadata": {},
   "outputs": [],
   "source": [
    "\n",
    "def сesar_deshifr():\n",
    "    lettre = 'ABCDEFGHIJKLMNOPQRSTUVWXYZABCDEFGHIJKLMNOPQRSTUVWXYZ'\n",
    "    teste1 = 5\n",
    "    teste = input(\" cesar- dechiffrovanie\")\n",
    "    resultat = ''\n",
    "\n",
    "    for i in teste:\n",
    "        ind = lettre.find(i)\n",
    "        newind = ind - teste1\n",
    "        if i in lettre:\n",
    "            resultat += lettre[newind]\n",
    "        else:\n",
    "            resultat += i\n",
    "    print(resultat)"
   ]
  },
  {
   "cell_type": "code",
   "execution_count": 3,
   "id": "5fafe921",
   "metadata": {},
   "outputs": [],
   "source": [
    "\n",
    "def cesbash():\n",
    "    # задаем алфавит из английских букв больших(пОЧЕМУ БОЛЬШИХ?  Мы просто указали такой диапазон в ASCII. Вы можете\n",
    "    # алфавит увеличить\n",
    "    lettre = [chr(x) for x in range(65, 91)]\n",
    "    # алфавит-наоборот\n",
    "    lettre_vu = [x for x in lettre]\n",
    "    lettre_vu.reverse()\n",
    "\n",
    "    teste = input(\"cesbash - chiffrovanie\")\n",
    "    resultat = \"\"\n",
    "    # тут для перебираются буквы из исходного текста\n",
    "    for i in teste:\n",
    "        # перебираются индексы и значения из letters\n",
    "        for j,l in enumerate(lettre):\n",
    "            if i == l: # если буквы i и l равны, то\n",
    "                resultat += lettre_vu[j] # ставим в результат букву из реверсированного списка с индексом j\n",
    "    print(resultat)"
   ]
  },
  {
   "cell_type": "code",
   "execution_count": 4,
   "id": "4ecc85f6",
   "metadata": {},
   "outputs": [],
   "source": [
    "\n",
    "def cesbash_dchivro():\n",
    "    lettre = [chr(x) for x in range(65, 91)]\n",
    "    lettre_vue = [x for x in lettre]\n",
    "    lettre_vue.reverse()\n",
    "\n",
    "    teste = input(\"cesbash - dechirovka\")\n",
    "    resultat = \"\"\n",
    "    for i in teste:\n",
    "        for j, l in enumerate(lettre_vue):\n",
    "            if i == l:\n",
    "                resultat += lettre[j]\n",
    "    print(resultat)"
   ]
  },
  {
   "cell_type": "code",
   "execution_count": 5,
   "id": "f87151f4",
   "metadata": {},
   "outputs": [],
   "source": [
    "# функция мейн: тут запускаем поочередно каждую функцию\n",
    "def main():\n",
    "    cesar()\n",
    "    сesar_deshifr()\n",
    "    cesbash()\n",
    "    cesbash_dchivro()"
   ]
  },
  {
   "cell_type": "code",
   "execution_count": 6,
   "id": "0c3c308e",
   "metadata": {},
   "outputs": [
    {
     "name": "stdout",
     "output_type": "stream",
     "text": [
      "cesar chiffrovanie :)WORLD\n",
      "W\n",
      "WT\n",
      "WTX\n",
      "WTXQ\n",
      "WTXQI\n",
      " cesar- dechiffrovanieDLROW\n",
      "YGMJR\n",
      "cesbash - chiffrovanieworld\n",
      "\n",
      "cesbash - dechirovkaworld\n",
      "\n"
     ]
    }
   ],
   "source": [
    "if __name__ == \"__main__\":\n",
    "    main()"
   ]
  },
  {
   "cell_type": "code",
   "execution_count": null,
   "id": "5574eaf4",
   "metadata": {},
   "outputs": [],
   "source": []
  }
 ],
 "metadata": {
  "kernelspec": {
   "display_name": "Python 3 (ipykernel)",
   "language": "python",
   "name": "python3"
  },
  "language_info": {
   "codemirror_mode": {
    "name": "ipython",
    "version": 3
   },
   "file_extension": ".py",
   "mimetype": "text/x-python",
   "name": "python",
   "nbconvert_exporter": "python",
   "pygments_lexer": "ipython3",
   "version": "3.9.13"
  }
 },
 "nbformat": 4,
 "nbformat_minor": 5
}
