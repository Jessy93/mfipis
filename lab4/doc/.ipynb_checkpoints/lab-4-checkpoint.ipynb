{
 "cells": [
  {
   "cell_type": "code",
   "execution_count": 1,
   "id": "0b8c33ff",
   "metadata": {},
   "outputs": [],
   "source": [
    "##"
   ]
  },
  {
   "cell_type": "code",
   "execution_count": null,
   "id": "118494fa",
   "metadata": {},
   "outputs": [],
   "source": []
  },
  {
   "cell_type": "code",
   "execution_count": null,
   "id": "9ad5e5fd",
   "metadata": {},
   "outputs": [],
   "source": []
  },
  {
   "cell_type": "code",
   "execution_count": null,
   "id": "0f674907",
   "metadata": {},
   "outputs": [],
   "source": []
  },
  {
   "cell_type": "code",
   "execution_count": null,
   "id": "4058d11a",
   "metadata": {},
   "outputs": [],
   "source": []
  },
  {
   "cell_type": "code",
   "execution_count": null,
   "id": "997b1d0b",
   "metadata": {},
   "outputs": [],
   "source": []
  },
  {
   "cell_type": "code",
   "execution_count": null,
   "id": "dd32ef71",
   "metadata": {},
   "outputs": [],
   "source": []
  },
  {
   "cell_type": "code",
   "execution_count": 2,
   "id": "cb501181",
   "metadata": {},
   "outputs": [],
   "source": [
    "# функция уменьшает число до тех пор пока одно из них не станет нулем\n",
    "# практически для этого используется цикл\n",
    "def evklidsimply(a,b):\n",
    "    while a != 0 and b != 0:\n",
    "        if a >= b:\n",
    "            a %= b\n",
    "        else:\n",
    "            b %= a\n",
    "    return a or b"
   ]
  },
  {
   "cell_type": "code",
   "execution_count": null,
   "id": "6dabd66a",
   "metadata": {},
   "outputs": [],
   "source": []
  },
  {
   "cell_type": "code",
   "execution_count": 3,
   "id": "b96e5077",
   "metadata": {},
   "outputs": [],
   "source": [
    "# функция расширенного евклида\n",
    "# ax + by = gcd(a,b)\n",
    "# алгоритм находит нод и его линейное представление\n",
    "\n",
    "def evklid_extended(a, b):\n",
    "    if a == 0:\n",
    "        return (b, 0, 1)\n",
    "    else:\n",
    "        div, x, y = evklid_extended(b % a, a)\n",
    "    return (div, y - (b // a) * x, x)\n"
   ]
  },
  {
   "cell_type": "code",
   "execution_count": null,
   "id": "a344213e",
   "metadata": {},
   "outputs": [],
   "source": []
  },
  {
   "cell_type": "code",
   "execution_count": 4,
   "id": "ebe98d8f",
   "metadata": {},
   "outputs": [],
   "source": [
    "# функция бинарного евклида\n",
    "def binary_evklid(a,b):\n",
    "    g = 1  # переменная для подсчета\n",
    "    # согласно условиям и пунктам задачи мы все делаем\n",
    "    # по пунктам\n",
    "    while(a % 2 == 0 and b % 2 == 0):\n",
    "        a = a/2\n",
    "        b = b/2\n",
    "        g = 2*g\n",
    "    u,v = a,b\n",
    "    while u != 0:\n",
    "        if u % 2 == 0:\n",
    "            u = u/2\n",
    "        if v % 2 == 0:\n",
    "            v = v/2\n",
    "        if u >= v:\n",
    "            u = u - v\n",
    "        else:\n",
    "            v = v - u\n",
    "    d = g*v\n",
    "    return d"
   ]
  },
  {
   "cell_type": "code",
   "execution_count": null,
   "id": "37b73f36",
   "metadata": {},
   "outputs": [],
   "source": []
  },
  {
   "cell_type": "code",
   "execution_count": 5,
   "id": "fe653d75",
   "metadata": {},
   "outputs": [],
   "source": [
    "# функция расширенного бинарного евклида\n",
    "def evklid_binary_extended(a, b):\n",
    "    g = 1 # переменная для подсчетов\n",
    "    # выполняем все согласно алгоритму\n",
    "    # объяснять даже не надо все по пунктам расписано в условии задачи\n",
    "    while (a % 2 == 0 and b % 2 == 0):\n",
    "        a = a / 2\n",
    "        b = b / 2\n",
    "        g = 2 * g\n",
    "    u = a\n",
    "    v = b\n",
    "    A = 1\n",
    "    B = 0\n",
    "    C = 0\n",
    "    D = 1\n",
    "    while u != 0:\n",
    "        if u % 2 == 0:\n",
    "            u = u/2\n",
    "            if A % 2 == 0 and B % 2 ==0:\n",
    "                A = A/2\n",
    "                B = B/2\n",
    "            else:\n",
    "                A = (A+b)/2\n",
    "                B = (B-a)/2\n",
    "        if v % 2 == 0:\n",
    "            v = v / 2\n",
    "            if C%2==0 and D%2==0:\n",
    "                C = C/2\n",
    "                D = D/2\n",
    "            else:\n",
    "                C = (C+b)/2\n",
    "                D = (D-a)/2\n",
    "        if u>=v:\n",
    "            u = u - v\n",
    "            A = A - C\n",
    "            B = B - D\n",
    "        else:\n",
    "            v = v - u\n",
    "            C = C - A\n",
    "            D = D - B\n",
    "    d = g*v\n",
    "    x = C\n",
    "    y = D\n",
    "    return (d,x,y)"
   ]
  },
  {
   "cell_type": "code",
   "execution_count": null,
   "id": "a5cc51d9",
   "metadata": {},
   "outputs": [],
   "source": []
  },
  {
   "cell_type": "code",
   "execution_count": 7,
   "id": "d987ed8c",
   "metadata": {},
   "outputs": [],
   "source": [
    "def main():\n",
    "    # положим числа в переменные\n",
    "    a = int(input(\"Введите числа a\"))\n",
    "    b = int(input(\"Введите число b\"))\n",
    "    if a >= 0 and 0 <= b <= a: # проверяем условия что все в порядке(согласно условиям задачи\n",
    "        print(\"Вызываем функицю Евклида\")\n",
    "        print(evklidsimply(a,b)) # вызываем функцию простого евклида\n",
    "        print(\"А теперь можно вызвать функцию расширенного\")\n",
    "        print(evklid_extended(a,b)) # вызываем функцию расширенного евклида\n",
    "        print(\"А теперь функция бинарного Евклида\")\n",
    "        print(binary_evklid(a,b)) # вызываем функцию бинарного евклида\n",
    "        print(\"А теперь функция расширенного бинарного Евклида\")\n",
    "        print(evklid_binary_extended(a,b)) # вызываем функцию расширенного бинарного евклида"
   ]
  },
  {
   "cell_type": "code",
   "execution_count": 9,
   "id": "e68b0aea",
   "metadata": {},
   "outputs": [
    {
     "name": "stdout",
     "output_type": "stream",
     "text": [
      "Введите числа a70\n",
      "Введите число b30\n",
      "Вызываем функицю Евклида\n",
      "10\n",
      "А теперь можно вызвать функцию расширенного\n",
      "(10, 1, -2)\n",
      "А теперь функция бинарного Евклида\n",
      "10.0\n",
      "А теперь функция расширенного бинарного Евклида\n",
      "(10.0, -8.0, 19.0)\n"
     ]
    }
   ],
   "source": [
    "main()"
   ]
  },
  {
   "cell_type": "code",
   "execution_count": null,
   "id": "50adc6e4",
   "metadata": {},
   "outputs": [],
   "source": []
  },
  {
   "cell_type": "code",
   "execution_count": null,
   "id": "99918b42",
   "metadata": {},
   "outputs": [],
   "source": []
  }
 ],
 "metadata": {
  "kernelspec": {
   "display_name": "Python 3 (ipykernel)",
   "language": "python",
   "name": "python3"
  },
  "language_info": {
   "codemirror_mode": {
    "name": "ipython",
    "version": 3
   },
   "file_extension": ".py",
   "mimetype": "text/x-python",
   "name": "python",
   "nbconvert_exporter": "python",
   "pygments_lexer": "ipython3",
   "version": "3.9.13"
  }
 },
 "nbformat": 4,
 "nbformat_minor": 5
}
