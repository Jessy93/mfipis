{
 "cells": [
  {
   "cell_type": "code",
   "execution_count": null,
   "id": "da883e33",
   "metadata": {},
   "outputs": [],
   "source": []
  },
  {
   "cell_type": "code",
   "execution_count": null,
   "id": "64e9b7b5",
   "metadata": {},
   "outputs": [],
   "source": []
  },
  {
   "cell_type": "code",
   "execution_count": null,
   "id": "1257b454",
   "metadata": {},
   "outputs": [],
   "source": []
  },
  {
   "cell_type": "code",
   "execution_count": null,
   "id": "46cbf7ce",
   "metadata": {},
   "outputs": [],
   "source": []
  },
  {
   "cell_type": "code",
   "execution_count": null,
   "id": "40b47080",
   "metadata": {},
   "outputs": [],
   "source": []
  },
  {
   "cell_type": "code",
   "execution_count": null,
   "id": "8b3a56e6",
   "metadata": {},
   "outputs": [],
   "source": []
  },
  {
   "cell_type": "code",
   "execution_count": 1,
   "id": "c3dac115",
   "metadata": {},
   "outputs": [],
   "source": [
    "def main():\n",
    "    #create алфавит\n",
    "    dict = {\"а\" :1, \"б\" :2 , \"в\" :3 ,\"г\" :4 ,\"д\" :5 ,\"е\" :6 ,\"ё\" :7 ,\"ж\": 8, \"з\": 9, \"и\": 10, \"й\": 11, \"к\": 12, \"л\": 13,\n",
    "            \"м\": 14, \"н\": 15, \"о\": 16, \"п\": 17,\n",
    "            \"р\": 18, \"с\": 19, \"т\": 20, \"у\": 21, \"ф\": 22, \"х\": 23, \"ц\": 24, \"ч\": 25, \"ш\": 26, \"щ\": 27, \"ъ\": 28,\n",
    "            \"ы\": 29, \"ь\": 30, \"э\": 31, \"ю\": 32, \"я\": 32\n",
    "            }\n",
    "    # swap the key and the value, such a dictionary will be needed in the future\n",
    "    dict2 = {v: k for k, v in dict.items()}\n",
    "    gamma = input(\"Введите гамму(на русском языке! Да и пробелы тоже нельзя! Короче, только символы из dict\").lower()\n",
    "    text = input(\"Введите текст для шифрования\").lower()\n",
    "    listofdigitsoftext = list() #here we will write the numbers of letters from the text\n",
    "    listofdigitsofgamma = list() #для гаммы\n",
    "    #запишем числа в список\n",
    "    for i in text:\n",
    "        listofdigitsoftext.append(dict[i])\n",
    "    print(\"Числа текста\", listofdigitsoftext)\n",
    "    #то же самое сделаем с гаммой\n",
    "    for i in gamma:\n",
    "        listofdigitsofgamma.append(dict[i])\n",
    "    print(\"числа гаммы\", listofdigitsofgamma)\n",
    "    listofdigitsresult = list() #сюда будем записывать результат\n",
    "    ch = 0\n",
    "    for i in text:\n",
    "        try:\n",
    "            a = dict[i] + listofdigitsofgamma[ch]\n",
    "        except:\n",
    "            ch=0\n",
    "            a = dict[i] + listofdigitsofgamma[ch]\n",
    "        if a>=33:\n",
    "            a = a%33\n",
    "        ch+=1\n",
    "        listofdigitsresult.append(a)\n",
    "    print(\"Числа зашифрованного текста\", listofdigitsresult)\n",
    "    # теперь обратно числа представим в виде букв\n",
    "    textencrypted=\"\"\n",
    "    for i in listofdigitsresult:\n",
    "        textencrypted+=dict2[i]\n",
    "    print(\"Зашифрованный текст: \", textencrypted)\n",
    "    "
   ]
  },
  {
   "cell_type": "code",
   "execution_count": 2,
   "id": "90c45364",
   "metadata": {
    "scrolled": true
   },
   "outputs": [
    {
     "name": "stdout",
     "output_type": "stream",
     "text": [
      "Введите гамму(на русском языке! Да и пробелы тоже нельзя! Короче, только символы из dictГАММА\n",
      "Введите текст для шифрованияПРИКАЗ\n",
      "Числа текста [17, 18, 10, 12, 1, 9]\n",
      "числа гаммы [4, 1, 14, 14, 1]\n",
      "Числа зашифрованного текста [21, 19, 24, 26, 2, 13]\n",
      "Зашифрованный текст:  усцшбл\n"
     ]
    }
   ],
   "source": [
    "if __name__ == '__main__':\n",
    "    main()"
   ]
  },
  {
   "cell_type": "code",
   "execution_count": null,
   "id": "a38010d5",
   "metadata": {},
   "outputs": [],
   "source": []
  },
  {
   "cell_type": "code",
   "execution_count": null,
   "id": "069aeed3",
   "metadata": {},
   "outputs": [],
   "source": []
  }
 ],
 "metadata": {
  "kernelspec": {
   "display_name": "Python 3 (ipykernel)",
   "language": "python",
   "name": "python3"
  },
  "language_info": {
   "codemirror_mode": {
    "name": "ipython",
    "version": 3
   },
   "file_extension": ".py",
   "mimetype": "text/x-python",
   "name": "python",
   "nbconvert_exporter": "python",
   "pygments_lexer": "ipython3",
   "version": "3.9.13"
  }
 },
 "nbformat": 4,
 "nbformat_minor": 5
}
